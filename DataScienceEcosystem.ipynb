{
 "cells": [
  {
   "cell_type": "markdown",
   "id": "f6ec7fd1-e39f-439c-9b23-950e5bd06726",
   "metadata": {},
   "source": [
    "# Data Science Tools and Ecosystem"
   ]
  },
  {
   "cell_type": "markdown",
   "id": "1de7a69d-169e-405e-a5f5-ede95fa7d793",
   "metadata": {},
   "source": [
    "In this notebook, we will summarize the tools and ecosystems used in data science."
   ]
  },
  {
   "cell_type": "markdown",
   "id": "e65a4126-b9f8-41b3-8a82-52a55f7ab1ff",
   "metadata": {},
   "source": [
    "**Objectives:**\n",
    "- List popular languages for Data Science\n",
    "- List commonly used libraries in Data Science\n",
    "- Understand the tools in Data Science Ecosystem\n",
    "- Demonstrate basic arithmetic operations in Python"
   ]
  },
  {
   "cell_type": "markdown",
   "id": "7a102979-9db8-4d08-b553-4463827082d5",
   "metadata": {},
   "source": [
    "Here are some of the popular programming languages used in data science:\n",
    "1. Python\n",
    "2. R\n",
    "3. Julia"
   ]
  },
  {
   "cell_type": "markdown",
   "id": "bbfb2f5a-dbb8-4523-bad9-b58ca43447f4",
   "metadata": {},
   "source": [
    "Some of the commonly used libraries by data scientists include:\n",
    "\n",
    "1. Pandas\n",
    "2. NumPy\n",
    "3. Matplotlib\n",
    "4. Scikit-learn"
   ]
  },
  {
   "cell_type": "markdown",
   "id": "a7440a12-de86-4135-bd41-1902a27cbfc7",
   "metadata": {},
   "source": [
    "| Data Science Tools |\n",
    "|--------------------|\n",
    "| Jupyter Notebook   |\n",
    "| RStudio            |\n",
    "| Apache Zeppelin    |\n"
   ]
  },
  {
   "cell_type": "markdown",
   "id": "0ce4d51c-1867-4d6d-8919-52ededb5aa83",
   "metadata": {},
   "source": [
    "### Here are some examples of how arithmetic expressions are evaluated in Python."
   ]
  },
  {
   "cell_type": "code",
   "execution_count": 5,
   "id": "bb21a02c-3695-4992-ba3c-dcb94cb31a53",
   "metadata": {},
   "outputs": [
    {
     "data": {
      "text/plain": [
       "17"
      ]
     },
     "execution_count": 5,
     "metadata": {},
     "output_type": "execute_result"
    }
   ],
   "source": [
    "# This is a simple arithmetic expression to multiply and then add integers\n",
    "(3 * 4) + 5"
   ]
  },
  {
   "cell_type": "code",
   "execution_count": 6,
   "id": "a79c01ba-706b-4434-8ceb-a3a45176fb7d",
   "metadata": {},
   "outputs": [
    {
     "data": {
      "text/plain": [
       "3.3333333333333335"
      ]
     },
     "execution_count": 6,
     "metadata": {},
     "output_type": "execute_result"
    }
   ],
   "source": [
    "# This will convert 200 minutes to hours by dividing by 60\n",
    "hours = 200 / 60\n",
    "hours"
   ]
  },
  {
   "cell_type": "markdown",
   "id": "735abcf5-c939-4065-9db9-e2dcf8355254",
   "metadata": {},
   "source": [
    "## Author\n",
    "Edwyn Lugo"
   ]
  }
 ],
 "metadata": {
  "kernelspec": {
   "display_name": "Python 3 (ipykernel)",
   "language": "python",
   "name": "python3"
  },
  "language_info": {
   "codemirror_mode": {
    "name": "ipython",
    "version": 3
   },
   "file_extension": ".py",
   "mimetype": "text/x-python",
   "name": "python",
   "nbconvert_exporter": "python",
   "pygments_lexer": "ipython3",
   "version": "3.11.9"
  }
 },
 "nbformat": 4,
 "nbformat_minor": 5
}
